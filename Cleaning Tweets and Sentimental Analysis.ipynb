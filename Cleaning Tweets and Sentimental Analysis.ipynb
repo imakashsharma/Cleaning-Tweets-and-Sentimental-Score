{
 "cells": [
  {
   "cell_type": "code",
   "execution_count": 8,
   "metadata": {},
   "outputs": [],
   "source": [
    "#cleaning the pre-fetched Tweets File and Saving it to New name\n",
    "import re\n",
    "import pandas as pd \n",
    "import numpy as np\n",
    "import string\n",
    "\n",
    "#read csv file\n",
    "df = pd.read_csv(\"SushantSinghRajput1.csv\")\n",
    "\n",
    "def remove_pattern(input_txt, pattern):\n",
    "    r = re.findall(pattern, input_txt)\n",
    "    for i in r:\n",
    "        input_txt = re.sub(i, '', input_txt)\n",
    "        \n",
    "    return input_txt    \n",
    "\n",
    "\n",
    "df['clean_tweet'] = np.vectorize(remove_pattern)(df['Tweets'], \"@[\\w]*\")\n",
    "df['clean_tweet'] = df['clean_tweet'].str.replace(\"[#]\", \" \")\n",
    "df['clean_tweet'] = df['clean_tweet'].str.replace(\"[^a-zA-Z#]\", \" \")\n",
    "df['clean_tweet'] = df['clean_tweet'].str.replace(\"[https?:\\/\\/.*[\\r\\n]*]\", \" \")\n",
    "df['clean_tweet'] = df['clean_tweet'].str.replace(\"[https]\", \" \")\n",
    "\n",
    "df.head()\n",
    "\n",
    "#save result to csv file\n",
    "export_csv=df.to_csv('SushantSinghRajput1.0.csv')"
   ]
  },
  {
   "cell_type": "code",
   "execution_count": null,
   "metadata": {},
   "outputs": [],
   "source": [
    "a=\"😂🤣i am very happy\"\n",
    "b=a.encode('ascii', 'ignore').decode('ascii')\n",
    "print(b)"
   ]
  },
  {
   "cell_type": "code",
   "execution_count": 1,
   "metadata": {},
   "outputs": [
    {
     "data": {
      "text/plain": [
       "['qqqakash@gmail.com']"
      ]
     },
     "execution_count": 1,
     "metadata": {},
     "output_type": "execute_result"
    }
   ],
   "source": [
    "text=\"hello my name is akash sharma i am from phagwara righ now i am pursuing mu bachelars degree from gna university my contact number is 9501129469 and my email id is qqqakash@gmail.com\"\n",
    "import re\n",
    "re.findall(r\"([\\w.-]+@[\\w.-]+)\", text)"
   ]
  },
  {
   "cell_type": "code",
   "execution_count": 9,
   "metadata": {},
   "outputs": [
    {
     "name": "stdout",
     "output_type": "stream",
     "text": [
      "Requirement already satisfied: textblob in d:\\anaconda\\lib\\site-packages (0.15.3)\n",
      "Requirement already satisfied: nltk>=3.1 in d:\\anaconda\\lib\\site-packages (from textblob) (3.4.5)\n",
      "Requirement already satisfied: six in d:\\anaconda\\lib\\site-packages (from nltk>=3.1->textblob) (1.12.0)\n"
     ]
    }
   ],
   "source": [
    "#calculating Sentimental Analysis of pre-translated Twees File and Saving it to New name\n",
    "!pip install textblob\n",
    "import pandas as pd \n",
    "import numpy as np\n",
    "from textblob import TextBlob\n",
    "#read csv file\n",
    "df = pd.read_csv(\"SushantSinghRajput1.0.csv\")\n",
    "\n",
    "polarity = lambda x: TextBlob(x).sentiment.polarity\n",
    "subjectivity = lambda x: TextBlob(x).sentiment.subjectivity\n",
    "df['polarity'] = df['clean_tweet'].apply(polarity)\n",
    "df['subjectivity'] = df['clean_tweet'].apply(subjectivity)\n",
    "\n",
    "\n",
    "df.head()\n",
    "\n",
    "#save result to csv file\n",
    "export_csv=df.to_csv('SushantSinghRajput1.1.csv')"
   ]
  },
  {
   "cell_type": "code",
   "execution_count": null,
   "metadata": {},
   "outputs": [],
   "source": []
  }
 ],
 "metadata": {
  "kernelspec": {
   "display_name": "Python 3",
   "language": "python",
   "name": "python3"
  },
  "language_info": {
   "codemirror_mode": {
    "name": "ipython",
    "version": 3
   },
   "file_extension": ".py",
   "mimetype": "text/x-python",
   "name": "python",
   "nbconvert_exporter": "python",
   "pygments_lexer": "ipython3",
   "version": "3.7.4"
  }
 },
 "nbformat": 4,
 "nbformat_minor": 2
}
